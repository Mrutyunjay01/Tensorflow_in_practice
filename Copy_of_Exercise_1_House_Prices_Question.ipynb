{
  "nbformat": 4,
  "nbformat_minor": 0,
  "metadata": {
    "colab": {
      "name": "Copy of Exercise_1_House_Prices_Question.ipynb",
      "provenance": [],
      "toc_visible": true,
      "include_colab_link": true
    },
    "kernelspec": {
      "display_name": "Python 3",
      "name": "python3"
    }
  },
  "cells": [
    {
      "cell_type": "markdown",
      "metadata": {
        "id": "view-in-github",
        "colab_type": "text"
      },
      "source": [
        "<a href=\"https://colab.research.google.com/github/Mrutyunjay01/Tensorflow_in_practice/blob/master/Copy_of_Exercise_1_House_Prices_Question.ipynb\" target=\"_parent\"><img src=\"https://colab.research.google.com/assets/colab-badge.svg\" alt=\"Open In Colab\"/></a>"
      ]
    },
    {
      "cell_type": "code",
      "metadata": {
        "id": "zX4Kg8DUTKWO",
        "colab_type": "code",
        "colab": {}
      },
      "source": [
        "#@title Licensed under the Apache License, Version 2.0 (the \"License\");\n",
        "# you may not use this file except in compliance with the License.\n",
        "# You may obtain a copy of the License at\n",
        "#\n",
        "# https://www.apache.org/licenses/LICENSE-2.0\n",
        "#\n",
        "# Unless required by applicable law or agreed to in writing, software\n",
        "# distributed under the License is distributed on an \"AS IS\" BASIS,\n",
        "# WITHOUT WARRANTIES OR CONDITIONS OF ANY KIND, either express or implied.\n",
        "# See the License for the specific language governing permissions and\n",
        "# limitations under the License."
      ],
      "execution_count": 0,
      "outputs": []
    },
    {
      "cell_type": "markdown",
      "metadata": {
        "colab_type": "text",
        "id": "mw2VBrBcgvGa"
      },
      "source": [
        "In this exercise you'll try to build a neural network that predicts the price of a house according to a simple formula.\n",
        "\n",
        "So, imagine if house pricing was as easy as a house costs 50k + 50k per bedroom, so that a 1 bedroom house costs 100k, a 2 bedroom house costs 150k etc.\n",
        "\n",
        "How would you create a neural network that learns this relationship so that it would predict a 7 bedroom house as costing close to 400k etc.\n",
        "\n",
        "Hint: Your network might work better if you scale the house price down. You don't have to give the answer 400...it might be better to create something that predicts the number 4, and then your answer is in the 'hundreds of thousands' etc."
      ]
    },
    {
      "cell_type": "code",
      "metadata": {
        "colab_type": "code",
        "id": "PUNO2E6SeURH",
        "outputId": "40cacf43-c706-4cbb-9447-2053c36ea595",
        "colab": {
          "base_uri": "https://localhost:8080/",
          "height": 1000
        }
      },
      "source": [
        "import tensorflow as tf\n",
        "import numpy as np\n",
        "from tensorflow import keras\n",
        "model = keras.Sequential([keras.layers.Dense(units=1, input_shape=[1])])\n",
        "model.compile(optimizer='adam', loss='mean_squared_error')\n",
        "xs =  np.array([1.0,2.0, 3.0, 4.0, 5.0, 6.0, 7.0, 8.0, 9.0, 10.0, 11.0, 12.0, 13.0, 14.0, 15.0], dtype=float)# Your Code Here#\n",
        "ys = np.array([1, 1.5, 2, 2.5, 3, 3.5, 4, 4.5, 5, 5.5, 6, 6.5, 7, 7.5, 8], dtype=float)# Your Code Here#\n",
        "model.fit(xs, ys, epochs=50)\n",
        "print(model.predict([7.0]))"
      ],
      "execution_count": 0,
      "outputs": [
        {
          "output_type": "stream",
          "text": [
            "Epoch 1/50\n",
            "1/1 [==============================] - 0s 2ms/step - loss: 1.2699\n",
            "Epoch 2/50\n",
            "1/1 [==============================] - 0s 952us/step - loss: 1.2479\n",
            "Epoch 3/50\n",
            "1/1 [==============================] - 0s 954us/step - loss: 1.2260\n",
            "Epoch 4/50\n",
            "1/1 [==============================] - 0s 1ms/step - loss: 1.2043\n",
            "Epoch 5/50\n",
            "1/1 [==============================] - 0s 1ms/step - loss: 1.1828\n",
            "Epoch 6/50\n",
            "1/1 [==============================] - 0s 2ms/step - loss: 1.1615\n",
            "Epoch 7/50\n",
            "1/1 [==============================] - 0s 2ms/step - loss: 1.1405\n",
            "Epoch 8/50\n",
            "1/1 [==============================] - 0s 2ms/step - loss: 1.1197\n",
            "Epoch 9/50\n",
            "1/1 [==============================] - 0s 2ms/step - loss: 1.0991\n",
            "Epoch 10/50\n",
            "1/1 [==============================] - 0s 1ms/step - loss: 1.0787\n",
            "Epoch 11/50\n",
            "1/1 [==============================] - 0s 1ms/step - loss: 1.0586\n",
            "Epoch 12/50\n",
            "1/1 [==============================] - 0s 1ms/step - loss: 1.0387\n",
            "Epoch 13/50\n",
            "1/1 [==============================] - 0s 1ms/step - loss: 1.0190\n",
            "Epoch 14/50\n",
            "1/1 [==============================] - 0s 2ms/step - loss: 0.9996\n",
            "Epoch 15/50\n",
            "1/1 [==============================] - 0s 2ms/step - loss: 0.9804\n",
            "Epoch 16/50\n",
            "1/1 [==============================] - 0s 2ms/step - loss: 0.9614\n",
            "Epoch 17/50\n",
            "1/1 [==============================] - 0s 2ms/step - loss: 0.9427\n",
            "Epoch 18/50\n",
            "1/1 [==============================] - 0s 2ms/step - loss: 0.9242\n",
            "Epoch 19/50\n",
            "1/1 [==============================] - 0s 1ms/step - loss: 0.9060\n",
            "Epoch 20/50\n",
            "1/1 [==============================] - 0s 1ms/step - loss: 0.8880\n",
            "Epoch 21/50\n",
            "1/1 [==============================] - 0s 1ms/step - loss: 0.8702\n",
            "Epoch 22/50\n",
            "1/1 [==============================] - 0s 1ms/step - loss: 0.8527\n",
            "Epoch 23/50\n",
            "1/1 [==============================] - 0s 7ms/step - loss: 0.8355\n",
            "Epoch 24/50\n",
            "1/1 [==============================] - 0s 2ms/step - loss: 0.8184\n",
            "Epoch 25/50\n",
            "1/1 [==============================] - 0s 2ms/step - loss: 0.8017\n",
            "Epoch 26/50\n",
            "1/1 [==============================] - 0s 1ms/step - loss: 0.7852\n",
            "Epoch 27/50\n",
            "1/1 [==============================] - 0s 2ms/step - loss: 0.7689\n",
            "Epoch 28/50\n",
            "1/1 [==============================] - 0s 2ms/step - loss: 0.7529\n",
            "Epoch 29/50\n",
            "1/1 [==============================] - 0s 2ms/step - loss: 0.7371\n",
            "Epoch 30/50\n",
            "1/1 [==============================] - 0s 2ms/step - loss: 0.7216\n",
            "Epoch 31/50\n",
            "1/1 [==============================] - 0s 2ms/step - loss: 0.7063\n",
            "Epoch 32/50\n",
            "1/1 [==============================] - 0s 2ms/step - loss: 0.6912\n",
            "Epoch 33/50\n",
            "1/1 [==============================] - 0s 2ms/step - loss: 0.6764\n",
            "Epoch 34/50\n",
            "1/1 [==============================] - 0s 1ms/step - loss: 0.6619\n",
            "Epoch 35/50\n",
            "1/1 [==============================] - 0s 2ms/step - loss: 0.6476\n",
            "Epoch 36/50\n",
            "1/1 [==============================] - 0s 2ms/step - loss: 0.6335\n",
            "Epoch 37/50\n",
            "1/1 [==============================] - 0s 2ms/step - loss: 0.6196\n",
            "Epoch 38/50\n",
            "1/1 [==============================] - 0s 2ms/step - loss: 0.6060\n",
            "Epoch 39/50\n",
            "1/1 [==============================] - 0s 2ms/step - loss: 0.5927\n",
            "Epoch 40/50\n",
            "1/1 [==============================] - 0s 2ms/step - loss: 0.5795\n",
            "Epoch 41/50\n",
            "1/1 [==============================] - 0s 2ms/step - loss: 0.5666\n",
            "Epoch 42/50\n",
            "1/1 [==============================] - 0s 2ms/step - loss: 0.5540\n",
            "Epoch 43/50\n",
            "1/1 [==============================] - 0s 2ms/step - loss: 0.5415\n",
            "Epoch 44/50\n",
            "1/1 [==============================] - 0s 2ms/step - loss: 0.5293\n",
            "Epoch 45/50\n",
            "1/1 [==============================] - 0s 3ms/step - loss: 0.5173\n",
            "Epoch 46/50\n",
            "1/1 [==============================] - 0s 2ms/step - loss: 0.5055\n",
            "Epoch 47/50\n",
            "1/1 [==============================] - 0s 2ms/step - loss: 0.4940\n",
            "Epoch 48/50\n",
            "1/1 [==============================] - 0s 2ms/step - loss: 0.4827\n",
            "Epoch 49/50\n",
            "1/1 [==============================] - 0s 2ms/step - loss: 0.4715\n",
            "Epoch 50/50\n",
            "1/1 [==============================] - 0s 2ms/step - loss: 0.4606\n",
            "[[3.3647714]]\n"
          ],
          "name": "stdout"
        }
      ]
    },
    {
      "cell_type": "code",
      "metadata": {
        "id": "Y6GxhXK1qISr",
        "colab_type": "code",
        "colab": {}
      },
      "source": [
        ""
      ],
      "execution_count": 0,
      "outputs": []
    }
  ]
}